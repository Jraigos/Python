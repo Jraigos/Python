{
 "cells": [
  {
   "cell_type": "code",
   "execution_count": 11,
   "id": "58b04359-f2a9-4723-991c-325d6cf8ada6",
   "metadata": {
    "tags": []
   },
   "outputs": [],
   "source": [
    "# Import the pathlib and csv library\n",
    "from pathlib import Path\n",
    "import csv"
   ]
  },
  {
   "cell_type": "code",
   "execution_count": 12,
   "id": "bce86976-4fc0-45e6-b38e-3e78aad134ac",
   "metadata": {},
   "outputs": [],
   "source": [
    "# Set the file path\n",
    "filepath = Path(\"../Pybank/budget_data.csv\")"
   ]
  },
  {
   "cell_type": "code",
   "execution_count": 13,
   "id": "54339c01-28bf-4701-a773-08dc4a7d58c4",
   "metadata": {},
   "outputs": [],
   "source": [
    "# Initialize variable to hold profit/losses\n",
    "pnl = []"
   ]
  },
  {
   "cell_type": "code",
   "execution_count": 14,
   "id": "c0bbfd58-d836-4837-91bd-2aea1c67d3d4",
   "metadata": {},
   "outputs": [],
   "source": [
    "# Initialize variable to hold date\n",
    "all_dates = []"
   ]
  },
  {
   "cell_type": "code",
   "execution_count": 15,
   "id": "d764b0d3-8aa1-4a60-b606-fbb86304f034",
   "metadata": {},
   "outputs": [],
   "source": [
    "# Initialize line_num variable\n",
    "line_num = 0"
   ]
  },
  {
   "cell_type": "code",
   "execution_count": 16,
   "id": "06b9c2d7-d8c7-4d9d-8119-58428ec5dc5a",
   "metadata": {},
   "outputs": [
    {
     "name": "stdout",
     "output_type": "stream",
     "text": [
      "['Date', 'Profit/Losses']\n",
      "-------------------------\n",
      "['Jan-2010', '867884']\n",
      "['Feb-2010', '984655']\n",
      "['Mar-2010', '322013']\n",
      "['Apr-2010', '-69417']\n",
      "['May-2010', '310503']\n",
      "['Jun-2010', '522857']\n",
      "['Jul-2010', '1033096']\n",
      "['Aug-2010', '604885']\n",
      "['Sep-2010', '-216386']\n",
      "['Oct-2010', '477532']\n",
      "['Nov-2010', '893810']\n",
      "['Dec-2010', '-80353']\n",
      "['Jan-2011', '779806']\n",
      "['Feb-2011', '-335203']\n",
      "['Mar-2011', '697845']\n",
      "['Apr-2011', '793163']\n",
      "['May-2011', '485070']\n",
      "['Jun-2011', '584122']\n",
      "['Jul-2011', '62729']\n",
      "['Aug-2011', '668179']\n",
      "['Sep-2011', '899906']\n",
      "['Oct-2011', '834719']\n",
      "['Nov-2011', '132003']\n",
      "['Dec-2011', '309978']\n",
      "['Jan-2012', '-755566']\n",
      "['Feb-2012', '1170593']\n",
      "['Mar-2012', '252788']\n",
      "['Apr-2012', '1151518']\n",
      "['May-2012', '817256']\n",
      "['Jun-2012', '570757']\n",
      "['Jul-2012', '506702']\n",
      "['Aug-2012', '-1022534']\n",
      "['Sep-2012', '475062']\n",
      "['Oct-2012', '779976']\n",
      "['Nov-2012', '144175']\n",
      "['Dec-2012', '542494']\n",
      "['Jan-2013', '359333']\n",
      "['Feb-2013', '321469']\n",
      "['Mar-2013', '67780']\n",
      "['Apr-2013', '471435']\n",
      "['May-2013', '565603']\n",
      "['Jun-2013', '872480']\n",
      "['Jul-2013', '789480']\n",
      "['Aug-2013', '999942']\n",
      "['Sep-2013', '-1196225']\n",
      "['Oct-2013', '268997']\n",
      "['Nov-2013', '-687986']\n",
      "['Dec-2013', '1150461']\n",
      "['Jan-2014', '682458']\n",
      "['Feb-2014', '617856']\n",
      "['Mar-2014', '824098']\n",
      "['Apr-2014', '581943']\n",
      "['May-2014', '132864']\n",
      "['Jun-2014', '448062']\n",
      "['Jul-2014', '689161']\n",
      "['Aug-2014', '800701']\n",
      "['Sep-2014', '1166643']\n",
      "['Oct-2014', '947333']\n",
      "['Nov-2014', '578668']\n",
      "['Dec-2014', '988505']\n",
      "['Jan-2015', '1139715']\n",
      "['Feb-2015', '1029471']\n",
      "['Mar-2015', '687533']\n",
      "['Apr-2015', '-524626']\n",
      "['May-2015', '158620']\n",
      "['Jun-2015', '87795']\n",
      "['Jul-2015', '423389']\n",
      "['Aug-2015', '840723']\n",
      "['Sep-2015', '568529']\n",
      "['Oct-2015', '332067']\n",
      "['Nov-2015', '989499']\n",
      "['Dec-2015', '778237']\n",
      "['Jan-2016', '650000']\n",
      "['Feb-2016', '-1100387']\n",
      "['Mar-2016', '-174946']\n",
      "['Apr-2016', '757143']\n",
      "['May-2016', '445709']\n",
      "['Jun-2016', '712961']\n",
      "['Jul-2016', '-1163797']\n",
      "['Aug-2016', '569899']\n",
      "['Sep-2016', '768450']\n",
      "['Oct-2016', '102685']\n",
      "['Nov-2016', '795914']\n",
      "['Dec-2016', '60988']\n",
      "['Jan-2017', '138230']\n",
      "['Feb-2017', '671099']\n"
     ]
    }
   ],
   "source": [
    "# Open the input path as a file object\n",
    "with open(filepath,\"r\") as file:\n",
    "    csvreader = csv.reader(file,delimiter=\",\")\n",
    "    header = next(csvreader)\n",
    "    line_num += 1\n",
    "    print(header)\n",
    "    print(\"-------------------------\")\n",
    "    for row in csvreader:\n",
    "        print(row)\n",
    "        # Set profit variable equal to the value in the 2th column of each row\n",
    "        profit = int(row[1])\n",
    "        pnl.append(profit)\n",
    "        date = row[0]\n",
    "        all_dates.append(date)"
   ]
  },
  {
   "cell_type": "code",
   "execution_count": 17,
   "id": "27b6b076-4737-477b-8d60-d2fc66a68b08",
   "metadata": {},
   "outputs": [
    {
     "name": "stdout",
     "output_type": "stream",
     "text": [
      "[867884, 984655, 322013, -69417, 310503, 522857, 1033096, 604885, -216386, 477532, 893810, -80353, 779806, -335203, 697845, 793163, 485070, 584122, 62729, 668179, 899906, 834719, 132003, 309978, -755566, 1170593, 252788, 1151518, 817256, 570757, 506702, -1022534, 475062, 779976, 144175, 542494, 359333, 321469, 67780, 471435, 565603, 872480, 789480, 999942, -1196225, 268997, -687986, 1150461, 682458, 617856, 824098, 581943, 132864, 448062, 689161, 800701, 1166643, 947333, 578668, 988505, 1139715, 1029471, 687533, -524626, 158620, 87795, 423389, 840723, 568529, 332067, 989499, 778237, 650000, -1100387, -174946, 757143, 445709, 712961, -1163797, 569899, 768450, 102685, 795914, 60988, 138230, 671099]\n"
     ]
    }
   ],
   "source": [
    "print(pnl)"
   ]
  },
  {
   "cell_type": "code",
   "execution_count": 18,
   "id": "e8864b30-9d5b-4f6b-9e9f-d3b2a370e0bf",
   "metadata": {},
   "outputs": [],
   "source": [
    "# Initialize metric variables\n",
    "count_month = 0\n",
    "net_pnl = 0"
   ]
  },
  {
   "cell_type": "code",
   "execution_count": 19,
   "id": "f7857a97-8ad0-424b-89b3-5f8427414155",
   "metadata": {},
   "outputs": [],
   "source": [
    "# Calculate the number of months and net profit/losses\n",
    "for profit in pnl:\n",
    "    \n",
    "    count_month += 1\n",
    "    net_pnl += profit"
   ]
  },
  {
   "cell_type": "code",
   "execution_count": 20,
   "id": "41c9cdac-c6fe-4505-8ea9-f4b080b11fbc",
   "metadata": {},
   "outputs": [
    {
     "name": "stdout",
     "output_type": "stream",
     "text": [
      "86\n"
     ]
    }
   ],
   "source": [
    "print(count_month)"
   ]
  },
  {
   "cell_type": "code",
   "execution_count": 21,
   "id": "afef0255-848c-4c7c-948a-76603278b31d",
   "metadata": {},
   "outputs": [
    {
     "name": "stdout",
     "output_type": "stream",
     "text": [
      "38382578\n"
     ]
    }
   ],
   "source": [
    "print(net_pnl)"
   ]
  },
  {
   "cell_type": "code",
   "execution_count": 22,
   "id": "c32d3fa2-b579-4a90-8aa7-aeb7f835cef4",
   "metadata": {},
   "outputs": [],
   "source": [
    "# Initialize variable to hold change of profit/losses\n",
    "total_change = []"
   ]
  },
  {
   "cell_type": "code",
   "execution_count": 23,
   "id": "b2b46d83-d30c-49ea-a5a0-c28b319226b9",
   "metadata": {},
   "outputs": [],
   "source": [
    "for i in range(len(pnl)-1):\n",
    "    change = pnl[i+1]-pnl[i]\n",
    "    total_change.append(change)"
   ]
  },
  {
   "cell_type": "code",
   "execution_count": 24,
   "id": "e596bbe3-ea1a-4a4a-bfa9-1104127a5431",
   "metadata": {},
   "outputs": [
    {
     "name": "stdout",
     "output_type": "stream",
     "text": [
      "[116771, -662642, -391430, 379920, 212354, 510239, -428211, -821271, 693918, 416278, -974163, 860159, -1115009, 1033048, 95318, -308093, 99052, -521393, 605450, 231727, -65187, -702716, 177975, -1065544, 1926159, -917805, 898730, -334262, -246499, -64055, -1529236, 1497596, 304914, -635801, 398319, -183161, -37864, -253689, 403655, 94168, 306877, -83000, 210462, -2196167, 1465222, -956983, 1838447, -468003, -64602, 206242, -242155, -449079, 315198, 241099, 111540, 365942, -219310, -368665, 409837, 151210, -110244, -341938, -1212159, 683246, -70825, 335594, 417334, -272194, -236462, 657432, -211262, -128237, -1750387, 925441, 932089, -311434, 267252, -1876758, 1733696, 198551, -665765, 693229, -734926, 77242, 532869]\n"
     ]
    }
   ],
   "source": [
    "print(total_change)"
   ]
  },
  {
   "cell_type": "code",
   "execution_count": 25,
   "id": "966df075-b021-4f8a-80ff-9b6c9b5bf207",
   "metadata": {},
   "outputs": [
    {
     "name": "stdout",
     "output_type": "stream",
     "text": [
      "-2315.12\n"
     ]
    }
   ],
   "source": [
    "# Calculate the average of the changes\n",
    "summ = 0\n",
    "for change in total_change:\n",
    "    summ += change\n",
    "\n",
    "avg_change = round(summ/(count_month-1),2)\n",
    "print(avg_change)"
   ]
  },
  {
   "cell_type": "code",
   "execution_count": 26,
   "id": "075ad70d-b650-463f-89fe-c3f7e284dc20",
   "metadata": {},
   "outputs": [],
   "source": [
    "# Initialize metric variables\n",
    "max_increase = 0\n",
    "min_increase = 0"
   ]
  },
  {
   "cell_type": "code",
   "execution_count": 27,
   "id": "53a356f5-dbe5-47e8-a4ec-ba6736b632b6",
   "metadata": {},
   "outputs": [],
   "source": [
    "# Calculate the max, min of the list of changes\n",
    "for change in total_change:\n",
    "\n",
    "    # Logic to determine min and max changes\n",
    "    if min_increase == 0:\n",
    "        min_increase = change\n",
    "    elif change > max_increase:\n",
    "        max_increase = change\n",
    "    elif change < min_increase:\n",
    "        min_increase = change"
   ]
  },
  {
   "cell_type": "code",
   "execution_count": 28,
   "id": "cbe25ef7-37fa-4f2e-9752-879dde42cacb",
   "metadata": {},
   "outputs": [
    {
     "name": "stdout",
     "output_type": "stream",
     "text": [
      "1926159 -2196167\n"
     ]
    }
   ],
   "source": [
    "print(max_increase,min_increase)"
   ]
  },
  {
   "cell_type": "code",
   "execution_count": 29,
   "id": "c13eac83-8baf-4c6c-851b-6e37532276f7",
   "metadata": {},
   "outputs": [],
   "source": [
    "index_max = total_change.index(max_increase)\n",
    "index_min = total_change.index(min_increase)"
   ]
  },
  {
   "cell_type": "code",
   "execution_count": 30,
   "id": "dbe70b7d-096d-4770-87ff-7793c951c278",
   "metadata": {},
   "outputs": [],
   "source": [
    "Max = all_dates[index_max+1]+\"  \"+'('+\"$\"+str(max_increase)+\")\""
   ]
  },
  {
   "cell_type": "code",
   "execution_count": 31,
   "id": "cdfdcbab-36b7-4e35-9206-cf90d3906384",
   "metadata": {},
   "outputs": [],
   "source": [
    "Min = all_dates[index_min+1]+\"  \"+'('+\"$\"+str(min_increase)+\")\""
   ]
  },
  {
   "cell_type": "code",
   "execution_count": 32,
   "id": "91aff0d9-a611-4c4e-8989-5d238c36f934",
   "metadata": {},
   "outputs": [],
   "source": [
    "# Print the analysis to the terminal and export a text file with the results"
   ]
  },
  {
   "cell_type": "code",
   "execution_count": 33,
   "id": "8b0221db-d387-41ac-84c2-947ad4c95158",
   "metadata": {},
   "outputs": [
    {
     "name": "stdout",
     "output_type": "stream",
     "text": [
      "Financial Analysis\n",
      "Total Months:86\n",
      "Total Profit/Losses $: 38382578\n",
      "Average Change $: -2315.12\n",
      "Greatest Increase in Profits: Feb-2012  ($1926159)\n",
      "Greatest Decrease in Profits: Sep-2013  ($-2196167)\n"
     ]
    }
   ],
   "source": [
    "print(\"Financial Analysis\")\n",
    "  \n",
    "print(f'Total Months:{count_month}')\n",
    "print(f'Total Profit/Losses $: {net_pnl}')\n",
    "print(f'Average Change $: {avg_change}')\n",
    "print(f'Greatest Increase in Profits: {Max}')\n",
    "print(f'Greatest Decrease in Profits: {Min}')"
   ]
  },
  {
   "cell_type": "code",
   "execution_count": 34,
   "id": "9df5c127-5a1b-4fba-926c-13d05d81f404",
   "metadata": {},
   "outputs": [],
   "source": [
    "# Set the output header\n",
    "header = [\"Financial Analysis\",\"\"]\n",
    "# Create a list of metrics\n",
    "count = ['Total Months:', count_month]\n",
    "netprofit = ['Total PnL $:', net_pnl]\n",
    "average = ['Average_Change $:', avg_change]\n",
    "increase = ['Greatest Increase in Profits:', Max]\n",
    "decrease = ['Greatest Decrease in Profits:', Min]\n",
    "\n",
    "# Set the output file path\n",
    "output_path = Path('output.csv')"
   ]
  },
  {
   "cell_type": "code",
   "execution_count": 35,
   "id": "560fad26-bd14-41d4-8fa2-eca475a9e9df",
   "metadata": {},
   "outputs": [],
   "source": [
    "# Open the output path as a file object\n",
    "with open(output_path, 'w') as csvfile:\n",
    "    # Set the file object as a csvwriter object\n",
    "    csvwriter = csv.writer(csvfile, delimiter=',')\n",
    "    # Write the header to the output file\n",
    "    csvwriter.writerow(header)\n",
    "    # Write the list of metrics to the output file\n",
    "    csvwriter.writerow(count)\n",
    "    csvwriter.writerow(netprofit)\n",
    "    csvwriter.writerow(average)\n",
    "    csvwriter.writerow(increase)\n",
    "    csvwriter.writerow(decrease)"
   ]
  },
  {
   "cell_type": "code",
   "execution_count": null,
   "id": "cc103d35-9de2-42c0-8819-0da03467cfe5",
   "metadata": {},
   "outputs": [],
   "source": []
  }
 ],
 "metadata": {
  "kernelspec": {
   "display_name": "Python 3",
   "language": "python",
   "name": "python3"
  },
  "language_info": {
   "codemirror_mode": {
    "name": "ipython",
    "version": 3
   },
   "file_extension": ".py",
   "mimetype": "text/x-python",
   "name": "python",
   "nbconvert_exporter": "python",
   "pygments_lexer": "ipython3",
   "version": "3.7.10"
  }
 },
 "nbformat": 4,
 "nbformat_minor": 5
}
